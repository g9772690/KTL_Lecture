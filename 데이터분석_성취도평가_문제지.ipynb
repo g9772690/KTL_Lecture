{
  "nbformat": 4,
  "nbformat_minor": 0,
  "metadata": {
    "colab": {
      "provenance": []
    },
    "kernelspec": {
      "name": "python3",
      "display_name": "Python 3"
    },
    "language_info": {
      "name": "python"
    }
  },
  "cells": [
    {
      "cell_type": "markdown",
      "source": [
        "# **데이터분석 성취도 평가**"
      ],
      "metadata": {
        "id": "xsqXyboVVMSt"
      }
    },
    {
      "cell_type": "markdown",
      "source": [
        "*   아래 텍스트창을 더블클릭한 후 성명을 입력하시오."
      ],
      "metadata": {
        "id": "HezCFq60VsxG"
      }
    },
    {
      "cell_type": "markdown",
      "source": [
        "*   성명 :"
      ],
      "metadata": {
        "id": "A5CblIFZOmvp"
      }
    },
    {
      "cell_type": "markdown",
      "source": [
        "**문제 1) 정형데이터, 비정형데이터, 반정형데이터에 대해 간략히 설명하시오. 아래 텍스트창을 더블클릭한 다음 내용 작성하면됨)**"
      ],
      "metadata": {
        "id": "lqZHZiv9WIVU"
      }
    },
    {
      "cell_type": "markdown",
      "source": [
        "*   답)"
      ],
      "metadata": {
        "id": "OXjOuqBNPZyA"
      }
    },
    {
      "cell_type": "markdown",
      "source": [
        "**문제 2) 빅데이터의 특징인 5V 에 대해 간략히 설명하시오.**"
      ],
      "metadata": {
        "id": "QqxwGGSMYgSG"
      }
    },
    {
      "cell_type": "markdown",
      "source": [
        "*   답)"
      ],
      "metadata": {
        "id": "Yp72JQ4nPyPA"
      }
    },
    {
      "cell_type": "markdown",
      "source": [
        "**문제 3) 딥러닝 모델의 적용 프로세스에 대해 간략히 설명하시오.**"
      ],
      "metadata": {
        "id": "fwccOeK1dbiF"
      }
    },
    {
      "cell_type": "markdown",
      "source": [
        "*   답)"
      ],
      "metadata": {
        "id": "O_A2UdlBQN6h"
      }
    },
    {
      "cell_type": "markdown",
      "source": [
        "**문제 4) 머신러닝의 학습방법 3가지는 무엇인가?**"
      ],
      "metadata": {
        "id": "GKGAESSge4ul"
      }
    },
    {
      "cell_type": "markdown",
      "source": [
        "*   답)"
      ],
      "metadata": {
        "id": "qO6hgMCkQM1U"
      }
    },
    {
      "cell_type": "markdown",
      "source": [
        "**문제 5) 분류(Classification)문제란 무엇인지에 대해 간략히 설명하시오.**"
      ],
      "metadata": {
        "id": "tQ2X4Mh1f8De"
      }
    },
    {
      "cell_type": "markdown",
      "source": [
        "*   답)"
      ],
      "metadata": {
        "id": "i4Tp1urIQjJo"
      }
    },
    {
      "cell_type": "markdown",
      "source": [
        "**문제 6) 머신러닝 및 딥러닝에서 feature 는 무엇을 의미하는지 간략히 설명하시오.**"
      ],
      "metadata": {
        "id": "urVwNhhVgzum"
      }
    },
    {
      "cell_type": "markdown",
      "source": [
        "*   답)"
      ],
      "metadata": {
        "id": "TudhADOcQjpD"
      }
    }
  ]
}