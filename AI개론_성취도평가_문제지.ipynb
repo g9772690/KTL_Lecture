{
  "nbformat": 4,
  "nbformat_minor": 0,
  "metadata": {
    "colab": {
      "provenance": []
    },
    "kernelspec": {
      "name": "python3",
      "display_name": "Python 3"
    },
    "language_info": {
      "name": "python"
    }
  },
  "cells": [
    {
      "cell_type": "markdown",
      "source": [
        "# **AI 개론 성취도 평가**"
      ],
      "metadata": {
        "id": "xsqXyboVVMSt"
      }
    },
    {
      "cell_type": "markdown",
      "source": [
        "*   아래 텍스트창을 더블클릭한 후 성명을 입력하시오."
      ],
      "metadata": {
        "id": "IkRSwXMJO4xp"
      }
    },
    {
      "cell_type": "markdown",
      "source": [
        "*   성명 :"
      ],
      "metadata": {
        "id": "A5CblIFZOmvp"
      }
    },
    {
      "cell_type": "markdown",
      "source": [
        "*   아래 코드창을 실행하시오."
      ],
      "metadata": {
        "id": "HezCFq60VsxG"
      }
    },
    {
      "cell_type": "code",
      "execution_count": null,
      "metadata": {
        "id": "0Wj0ObRbVHyV"
      },
      "outputs": [],
      "source": [
        "import numpy as np\n",
        "import pandas as pd\n",
        "import matplotlib as mpl\n",
        "import matplotlib.pyplot as plt"
      ]
    },
    {
      "cell_type": "markdown",
      "source": [
        "**문제 1) 아래의 배열 arr 을 reshape 함수를 이용하여 3행 4열 형태의 2차원 배열을 만들기 위한 코드를 작성하여 출력하시오.**"
      ],
      "metadata": {
        "id": "lqZHZiv9WIVU"
      }
    },
    {
      "cell_type": "code",
      "source": [
        "arr=np.arange(12)\n",
        "\n",
        "\n"
      ],
      "metadata": {
        "id": "IpFobeqtWgvX"
      },
      "execution_count": null,
      "outputs": []
    },
    {
      "cell_type": "markdown",
      "source": [
        "**문제 2) randint 함수를 이용하여 1에서 10까지(11미만) 랜덤한 정수 10개를 만들기 위한 코드를 작성하여 출력하시오.**"
      ],
      "metadata": {
        "id": "QqxwGGSMYgSG"
      }
    },
    {
      "cell_type": "code",
      "source": [],
      "metadata": {
        "id": "BvNzKyX_dZf9"
      },
      "execution_count": null,
      "outputs": []
    },
    {
      "cell_type": "markdown",
      "source": [
        "**문제 3) 다음과 같은 내용의 테이블을 데이터프레임 객체로 만들기 위한 코드를 작성하여 출력하시오.**"
      ],
      "metadata": {
        "id": "fwccOeK1dbiF"
      }
    },
    {
      "cell_type": "markdown",
      "source": [
        "![문제3.png](data:image/png;base64,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)"
      ],
      "metadata": {
        "id": "CxLfZ71Jeuuv"
      }
    },
    {
      "cell_type": "code",
      "source": [],
      "metadata": {
        "id": "72jF-aAAezMv"
      },
      "execution_count": null,
      "outputs": []
    },
    {
      "cell_type": "markdown",
      "source": [
        "**문제 4) 아래의 코드를 이용하여 my_df라는 데이터프레임을 생성하고 이를 csv 파일형식으로 저장하기 위한 코드를 작성하시오.(파일의 이름은 my_df.csv로 할 것)**"
      ],
      "metadata": {
        "id": "GKGAESSge4ul"
      }
    },
    {
      "cell_type": "code",
      "source": [
        "my_df = pd.DataFrame(\n",
        "    [[\"Biking\", 68.5, 1985, np.nan], [\"Dancing\", 83.1, 1984, 3]],\n",
        "    columns=[\"hobby\",\"weight\",\"birthyear\",\"children\"],\n",
        "    index=[\"alice\", \"bob\"]\n",
        ")\n",
        "\n"
      ],
      "metadata": {
        "id": "WuEG1qFAfuzR"
      },
      "execution_count": null,
      "outputs": []
    },
    {
      "cell_type": "markdown",
      "source": [
        "**문제 5) 아래의 코드를 이용하여 원 그래프를 작성하는 코드를 작성하고 출력하시오. 아래 코드에서 lbl 은 종류를 말하며, size 는 각 종류별 백분율을 의미한다.**"
      ],
      "metadata": {
        "id": "tQ2X4Mh1f8De"
      }
    },
    {
      "cell_type": "code",
      "source": [
        "lbl = 'Apple', 'Grape', 'Pear', 'Lemon'\n",
        "size = [35, 30, 25, 10]\n",
        "\n",
        "\n"
      ],
      "metadata": {
        "id": "Ul-lb_4lgedw"
      },
      "execution_count": null,
      "outputs": []
    },
    {
      "cell_type": "markdown",
      "source": [
        "**문제 6) 아래의 x값을 이용하여 y=x, y=x^2(x 제곱), y=x^3(x 세제곱) 3가지 line plot 을 하나의 플롯안에 나태내는 코드를 작성하고 출력하시오. 세 개의 선 그래프가 구별될 수 있도록 선스타일과 선의 색상을 적절히 조정하고 범례도 표시되게끔 하시오.**"
      ],
      "metadata": {
        "id": "urVwNhhVgzum"
      }
    },
    {
      "cell_type": "code",
      "source": [
        "x = np.linspace(0, 2, 100)\n",
        "\n",
        "\n"
      ],
      "metadata": {
        "id": "sR4_JMyEhI6m"
      },
      "execution_count": null,
      "outputs": []
    }
  ]
}